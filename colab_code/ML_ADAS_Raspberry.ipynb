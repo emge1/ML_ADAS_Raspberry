{
  "cells": [
    {
      "cell_type": "markdown",
      "metadata": {
        "id": "Kn5DGHVs4eTB"
      },
      "source": [
        "# Prerequisites"
      ]
    },
    {
      "cell_type": "code",
      "execution_count": null,
      "metadata": {
        "colab": {
          "base_uri": "https://localhost:8080/"
        },
        "id": "6iE-9dFpKiND",
        "outputId": "b6860e8f-13b7-428c-8ca0-dcc2c0cbccd5"
      },
      "outputs": [
        {
          "output_type": "stream",
          "name": "stdout",
          "text": [
            "Looking in indexes: https://pypi.org/simple, https://us-python.pkg.dev/colab-wheels/public/simple/\n",
            "Requirement already satisfied: tensorflow_hub in /usr/local/lib/python3.7/dist-packages (0.12.0)\n",
            "Requirement already satisfied: numpy>=1.12.0 in /usr/local/lib/python3.7/dist-packages (from tensorflow_hub) (1.21.6)\n",
            "Requirement already satisfied: protobuf>=3.8.0 in /usr/local/lib/python3.7/dist-packages (from tensorflow_hub) (3.17.3)\n",
            "Requirement already satisfied: six>=1.9 in /usr/local/lib/python3.7/dist-packages (from protobuf>=3.8.0->tensorflow_hub) (1.15.0)\n"
          ]
        }
      ],
      "source": [
        "# instalacja TensorFlow Hub\n",
        "!pip install tensorflow_hub"
      ]
    },
    {
      "cell_type": "code",
      "execution_count": null,
      "metadata": {
        "id": "6xU-bhp8MonG"
      },
      "outputs": [],
      "source": [
        "# import bibliotek\n",
        "from PIL import Image\n",
        "import os\n",
        "import tensorflow as tf\n",
        "import numpy as np\n",
        "import matplotlib.pyplot as plt\n",
        "import zipfile\n",
        "import tensorflow_hub as hub\n",
        "from tensorflow.keras import layers\n",
        "import pandas as pd \n",
        "from sklearn.metrics import accuracy_score\n",
        "import cv2"
      ]
    },
    {
      "cell_type": "markdown",
      "metadata": {
        "id": "RqkZA8SW4m5p"
      },
      "source": [
        "# Output configuration"
      ]
    },
    {
      "cell_type": "code",
      "execution_count": null,
      "metadata": {
        "colab": {
          "base_uri": "https://localhost:8080/"
        },
        "id": "zpfyH7ouqODX",
        "outputId": "7033ac35-3745-4516-fff1-55914cf26ad2"
      },
      "outputs": [
        {
          "output_type": "stream",
          "name": "stdout",
          "text": [
            "Mounted at /content/gdrive\n"
          ]
        }
      ],
      "source": [
        "# połączenie projektu z dyskiem Google, dzie znajdują się pliki .zip ze zbiorami danych\n",
        "from google.colab import drive\n",
        "drive.mount('/content/gdrive', force_remount=True)\n",
        "model_dir = '/content/gdrive/My Drive/Colab Notebooks'\n",
        "\n",
        "# zdefiniowanie ścieżek wyjść (output path)\n",
        "OUTPUT_ROOT_DIR = os.path.join(model_dir, \"/output\")\n",
        "OUTPUT_TFLITE_MODEL = os.path.join(OUTPUT_ROOT_DIR, \"/retrained_graph_mv1_100_224.tflite\")\n",
        "OUTPUT_LABELS = os.path.join(OUTPUT_ROOT_DIR, \"/retrained_labels_mv1_100_224.txt\")\n",
        "OUTPUT_READABLE_LABELS = os.path.join(OUTPUT_ROOT_DIR, \"/labels_readable.txt\")"
      ]
    },
    {
      "cell_type": "markdown",
      "metadata": {
        "id": "mYABzZEK4sbN"
      },
      "source": [
        "# Model configuration"
      ]
    },
    {
      "cell_type": "code",
      "execution_count": null,
      "metadata": {
        "id": "wYxRB2Hx4vxi"
      },
      "outputs": [],
      "source": [
        "# dobór \n",
        "SELECTED_MOBILENET = \"https://tfhub.dev/google/imagenet/mobilenet_v1_100_224/feature_vector/4\"\n",
        "\n",
        "# wymiary obrazów ze zbioru wejściowego\n",
        "IMAGE_SHAPE = (224, 224)\n",
        "MODEL_INPUT_HEIGHT = 224\n",
        "MODEL_INPUT_WIDTH = 224\n",
        "\n",
        "# średnia i odchylenie standardowe wyjścia - wynikają ze specyfiki sieci\n",
        "MODEL_INPUT_MEAN = 0\n",
        "MODEL_INPUT_STD = 255\n",
        "\n",
        "# warstwa wejściowa sieci MobileNet v1 ma nazwę \"Placeholder\"\n",
        "MODEL_INPUT_LAYER_NAME = \"Placeholder\"\n",
        "# warstwa wyjściowa ma nazwę \"final_result\"\n",
        "MODEL_OUTPUT_LAYER_NAME = \"final_result\""
      ]
    },
    {
      "cell_type": "markdown",
      "metadata": {
        "id": "zUxGq-av4zi4"
      },
      "source": [
        "# Loading dataset"
      ]
    },
    {
      "cell_type": "code",
      "execution_count": null,
      "metadata": {
        "colab": {
          "base_uri": "https://localhost:8080/"
        },
        "id": "0_ymyG6oEIZZ",
        "outputId": "b5ae114b-f6ab-4982-fca7-0869e6b8e84b"
      },
      "outputs": [
        {
          "output_type": "stream",
          "name": "stdout",
          "text": [
            "total 9\n",
            "drwx------ 2 root root 4096 Nov  5  2021  studbaza\n",
            "-rw------- 1 root root  143 Dec 29  2021  test.gsheet\n",
            "drwx------ 2 root root 4096 May 10 21:01 'Colab Notebooks'\n"
          ]
        }
      ],
      "source": [
        "#!rm -rf '{model_dir}'\n",
        "#os.makedirs(model_dir, exist_ok=True)\n",
        "!ls -ltra '{model_dir}'/.."
      ]
    },
    {
      "cell_type": "code",
      "execution_count": null,
      "metadata": {
        "id": "Oxbb44S447WS"
      },
      "outputs": [],
      "source": [
        "TMP_DATA_DIR = f\"{model_dir}/dataset/tmp\"\n",
        "TMP_LABELS_DIR = os.path.join(TMP_DATA_DIR, \"GTSRB/Final_Test\")\n",
        "\n",
        "TRAINING_DATA_DIR = \"dataset/training\"\n",
        "VALIDATION_DATA_DIR = \"dataset/validation\""
      ]
    },
    {
      "cell_type": "code",
      "execution_count": null,
      "metadata": {
        "id": "XecbgwJ15CF_"
      },
      "outputs": [],
      "source": [
        "# ścieżki do \n",
        "to_unpack = [\n",
        "    (f\"{TMP_DATA_DIR}/Final_Training_Images.zip\"),\n",
        "    (f\"{TMP_DATA_DIR}/Final_Test_Images.zip\"),\n",
        "    (f\"{TMP_DATA_DIR}/Final_Test_GT.zip\")\n",
        "]\n",
        " \n",
        "for file in to_unpack:\n",
        "    # print(\"Unzipping {} to {}...\".format(file, ))\n",
        "    with zipfile.ZipFile(file,\"r\") as zip_ref:\n",
        "        zip_ref.extractall(TMP_DATA_DIR)"
      ]
    },
    {
      "cell_type": "markdown",
      "metadata": {
        "id": "qdJxevr55Okx"
      },
      "source": [
        "# Training, validation, labels - prepare"
      ]
    },
    {
      "cell_type": "markdown",
      "metadata": {
        "id": "LXIAyRMd5Yj-"
      },
      "source": [
        "labels"
      ]
    },
    {
      "cell_type": "code",
      "execution_count": null,
      "metadata": {
        "id": "VFVtpRPJ5Tir"
      },
      "outputs": [],
      "source": [
        "# etykiety klas\n",
        "label_map = {\n",
        "    0: '20_speed',\n",
        "    3: '60_speed',\n",
        "    12: 'right_of_way_general',\n",
        "    13: 'give_way',\n",
        "    14: 'stop',\n",
        "    20: 'attention_right_turn',\n",
        "    22: 'attention_bumpers',\n",
        "    40: 'turn_circle',\n",
        "}\n",
        "\n",
        "if not os.path.exists(OUTPUT_ROOT_DIR):\n",
        "        os.makedirs(OUTPUT_ROOT_DIR)\n",
        "\n",
        "file = open(OUTPUT_READABLE_LABELS, 'w')\n",
        "for key, val in sorted(label_map.items()):\n",
        "    file.write(\"{}\\n\".format(val))\n",
        "file.close()"
      ]
    },
    {
      "cell_type": "markdown",
      "metadata": {
        "id": "SvAiapYI5zHq"
      },
      "source": [
        "Training dataset"
      ]
    },
    {
      "cell_type": "code",
      "execution_count": null,
      "metadata": {
        "id": "Y_QleYCk51a1"
      },
      "outputs": [],
      "source": [
        "\n",
        "tmp_train_data_dir = os.path.join(TMP_DATA_DIR, \"Final_Training_Images/GTSRB/Final_Training/Images\")\n",
        "\n",
        "directories = [d for d in os.listdir(tmp_train_data_dir) \n",
        "               if os.path.isdir(os.path.join(tmp_train_data_dir, d))]\n",
        "\n",
        "ppm_files_train = []\n",
        "ppm_labels_train = []\n",
        "for class_directory in directories:\n",
        "    label_dir = os.path.join(tmp_train_data_dir, class_directory)\n",
        "    file_names = [os.path.join(label_dir, f) \n",
        "                  for f in os.listdir(label_dir) if f.endswith(\".ppm\")]\n",
        "    for image_file in file_names:\n",
        "        ppm_files_train.append(image_file)\n",
        "        ppm_labels_train.append(class_directory)\n",
        "        \n",
        "ppm_files_train.sort()\n",
        "ppm_labels_train.sort()"
      ]
    },
    {
      "cell_type": "code",
      "execution_count": null,
      "metadata": {
        "id": "uheh5KWJ55cI"
      },
      "outputs": [],
      "source": [
        "# wprowadzenie skali szarości, wyrównanie histogramu, konwersja z .ppm na .jpg\n",
        "for ppm_file, label in zip(ppm_files_train, ppm_labels_train):\n",
        "    image = Image.open(ppm_file)\n",
        "    gray_image = cv2.cvtColor(np.uint8(image), cv2.COLOR_BGR2GRAY)\n",
        "    eq_image = cv2.equalizeHist(gray_image)\n",
        "    directory = os.path.join(TRAINING_DATA_DIR, label)\n",
        "    image_filename = \"{}.jpg\".format(os.path.splitext(os.path.basename(ppm_file))[0])\n",
        "\n",
        "    if not os.path.exists(directory):\n",
        "        os.makedirs(directory)\n",
        "    \n",
        "    # gray_image.save(os.path.join(directory, image_filename))\n",
        "    cv2.imwrite(os.path.join(directory, image_filename), eq_image)"
      ]
    },
    {
      "cell_type": "code",
      "execution_count": null,
      "metadata": {
        "colab": {
          "base_uri": "https://localhost:8080/",
          "height": 336
        },
        "id": "iiCuxLnC6ASc",
        "outputId": "a2e4eaac-514b-4853-8684-58c5e0825130"
      },
      "outputs": [
        {
          "output_type": "display_data",
          "data": {
            "text/plain": [
              "<Figure size 1224x2160 with 8 Axes>"
            ],
            "image/png": "[encoded data removed]"
          },
          "metadata": {
            "needs_background": "light"
          }
        }
      ],
      "source": [
        "# przykładowy obraz każdego ze znaków ze zbioru danych\n",
        "preprocessed_training_dirs = [d for d in os.listdir(TRAINING_DATA_DIR) \n",
        "               if os.path.isdir(os.path.join(TRAINING_DATA_DIR, d))]\n",
        "preprocessed_training_dirs.sort()\n",
        "\n",
        "training_images = []\n",
        "for training_dir in preprocessed_training_dirs:\n",
        "    training_images.append(os.path.join(TRAINING_DATA_DIR, training_dir, \"00000_00000.jpg\"))\n",
        "\n",
        "\n",
        "label_number = list(label_map.keys())\n",
        "i = 0\n",
        "plt.figure(figsize=(17, 30))\n",
        "for image in training_images:\n",
        "    plt.subplot(10,7, i + 1)\n",
        "    plt.axis('off')\n",
        "    plt.title(\"{}\".format(label_map[label_number[i]]))\n",
        "    i += 1\n",
        "    plt.imshow(Image.open(image))\n",
        "plt.show()"
      ]
    },
    {
      "cell_type": "code",
      "execution_count": null,
      "metadata": {
        "colab": {
          "base_uri": "https://localhost:8080/"
        },
        "id": "_NBTinmn6A8s",
        "outputId": "f2c8c148-492a-4d08-986c-726ff80e89f8"
      },
      "outputs": [
        {
          "output_type": "stream",
          "name": "stdout",
          "text": [
            "Found 7770 images belonging to 8 classes.\n"
          ]
        }
      ],
      "source": [
        "# normalizacja\n",
        "image_generator = tf.keras.preprocessing.image.ImageDataGenerator(rescale=1/255)\n",
        "# liczba obrazów i liczba klas\n",
        "image_data = image_generator.flow_from_directory(str(TRAINING_DATA_DIR), target_size=IMAGE_SHAPE)"
      ]
    },
    {
      "cell_type": "code",
      "execution_count": null,
      "metadata": {
        "colab": {
          "base_uri": "https://localhost:8080/"
        },
        "id": "xbUtmXrD6Iln",
        "outputId": "941fe0ed-fc15-46ba-d1b4-239da75a93ee"
      },
      "outputs": [
        {
          "output_type": "stream",
          "name": "stdout",
          "text": [
            "Image batch shape:  (32, 224, 224, 3)\n",
            "Label batch shape:  (32, 8)\n"
          ]
        }
      ],
      "source": [
        "# kształt partii obrazu i etykiety\n",
        "for image_batch, label_batch in image_data:\n",
        "  print(\"Image batch shape: \", image_batch.shape)\n",
        "  print(\"Label batch shape: \", label_batch.shape)\n",
        "  break"
      ]
    },
    {
      "cell_type": "markdown",
      "metadata": {
        "id": "_FqvVmoX6JpJ"
      },
      "source": [
        "Validation dataset"
      ]
    },
    {
      "cell_type": "code",
      "execution_count": null,
      "metadata": {
        "id": "XC6hkWbO6L90"
      },
      "outputs": [],
      "source": [
        "# wczytanie zbioru testowego\n",
        "tmp_validation_data_dir = os.path.join(TMP_DATA_DIR, \"Final_Test_Images/GTSRB/Final_Test/Images\")"
      ]
    },
    {
      "cell_type": "code",
      "execution_count": null,
      "metadata": {
        "colab": {
          "base_uri": "https://localhost:8080/"
        },
        "id": "73ouumE16PX8",
        "outputId": "f8c8b88d-0372-4b4c-df29-8ca7a4cc7397"
      },
      "outputs": [
        {
          "output_type": "stream",
          "name": "stdout",
          "text": [
            "Validation images count: 2490\n"
          ]
        }
      ],
      "source": [
        "tmp_validation_data_files = [f for f in os.listdir(tmp_validation_data_dir) if f.endswith(\".ppm\")]\n",
        "validation_images = []\n",
        "\n",
        "# eksport plików .jpg\n",
        "for ppm_file in tmp_validation_data_files:\n",
        "    image_dir = os.path.join(tmp_validation_data_dir, ppm_file) \n",
        "    image = Image.open(image_dir)\n",
        "    gray_image = cv2.cvtColor(np.uint8(image), cv2.COLOR_BGR2GRAY)\n",
        "    eq_image = cv2.equalizeHist(gray_image)\n",
        "    directory = VALIDATION_DATA_DIR\n",
        "    image_filename = \"{}.jpg\".format(os.path.splitext(os.path.basename(ppm_file))[0])\n",
        "\n",
        "    \n",
        "    if not os.path.exists(directory):\n",
        "        os.makedirs(directory)\n",
        "        \n",
        "    final_image = os.path.join(directory, image_filename)\n",
        "    # final_image = cv2.imwrite(os.path.join(directory, image_filename), eq_image)\n",
        "    image.save(final_image)\n",
        "\n",
        "    validation_images.append(final_image)\n",
        "    validation_images.sort()\n",
        "    \n",
        "print(\"Validation images count:\", len(validation_images))"
      ]
    },
    {
      "cell_type": "markdown",
      "metadata": {
        "id": "GS7eB0ed6Y1W"
      },
      "source": [
        "# Training"
      ]
    },
    {
      "cell_type": "code",
      "execution_count": null,
      "metadata": {
        "id": "fDc4HsZg6Rkf"
      },
      "outputs": [],
      "source": [
        "# headless model \n",
        "feature_extractor_url = \"https://tfhub.dev/google/imagenet/mobilenet_v2_100_224/feature_vector/4\" \n",
        "feature_extractor_layer = hub.KerasLayer(feature_extractor_url,\n",
        "                                         input_shape=(224,224,3))\n",
        "# returns: size of detected object, vector for each image\n",
        "feature_batch = feature_extractor_layer(image_batch)\n"
      ]
    },
    {
      "cell_type": "code",
      "execution_count": null,
      "metadata": {
        "id": "Y8VFlaN46caR"
      },
      "outputs": [],
      "source": [
        "# false, beacuse next blocks affects next layers\n",
        "feature_extractor_layer.trainable = False"
      ]
    },
    {
      "cell_type": "code",
      "execution_count": null,
      "metadata": {
        "colab": {
          "base_uri": "https://localhost:8080/"
        },
        "id": "Yc6wKomQ6e51",
        "outputId": "9686609a-2b80-480c-f43c-f4de0ed5e414"
      },
      "outputs": [
        {
          "output_type": "stream",
          "name": "stdout",
          "text": [
            "Model: \"sequential\"\n",
            "_________________________________________________________________\n",
            " Layer (type)                Output Shape              Param #   \n",
            "=================================================================\n",
            " keras_layer (KerasLayer)    (None, 1280)              2257984   \n",
            "                                                                 \n",
            " dense (Dense)               (None, 8)                 10248     \n",
            "                                                                 \n",
            "=================================================================\n",
            "Total params: 2,268,232\n",
            "Trainable params: 10,248\n",
            "Non-trainable params: 2,257,984\n",
            "_________________________________________________________________\n"
          ]
        }
      ],
      "source": [
        "model = tf.keras.Sequential([\n",
        "  feature_extractor_layer,\n",
        "  layers.Dense(image_data.num_classes)\n",
        "])\n",
        "\n",
        "model.summary()"
      ]
    },
    {
      "cell_type": "code",
      "execution_count": null,
      "metadata": {
        "id": "lDikGPjv6jLb"
      },
      "outputs": [],
      "source": [
        "# the output of an algorithm after it has been trained on a historical \n",
        "# dataset and applied to new data when forecasting the likelihood of a particular outcome\n",
        "predictions = model(image_batch)"
      ]
    },
    {
      "cell_type": "code",
      "execution_count": null,
      "metadata": {
        "colab": {
          "base_uri": "https://localhost:8080/"
        },
        "id": "hS76DwKG6lDa",
        "outputId": "cb9ea5c3-a9b8-4600-e39f-75402179b29a"
      },
      "outputs": [
        {
          "output_type": "execute_result",
          "data": {
            "text/plain": [
              "TensorShape([32, 8])"
            ]
          },
          "metadata": {},
          "execution_count": 19
        }
      ],
      "source": [
        "predictions.shape"
      ]
    },
    {
      "cell_type": "markdown",
      "metadata": {
        "id": "cGlTxb-g6mnv"
      },
      "source": [
        "Start training"
      ]
    },
    {
      "cell_type": "code",
      "execution_count": null,
      "metadata": {
        "id": "igoCXjXR6opv"
      },
      "outputs": [],
      "source": [
        "model.compile(\n",
        "  optimizer=tf.keras.optimizers.Adam(),\n",
        "  loss=tf.keras.losses.CategoricalCrossentropy(from_logits=True),\n",
        "  metrics=['acc'], \n",
        "  run_eagerly=True)"
      ]
    },
    {
      "cell_type": "code",
      "execution_count": null,
      "metadata": {
        "id": "-NBG-h6T6qLu"
      },
      "outputs": [],
      "source": [
        "class CollectBatchStats(tf.keras.callbacks.Callback):\n",
        "  def __init__(self):\n",
        "    self.batch_losses = []\n",
        "    self.batch_acc = []\n",
        "\n",
        "  def on_train_batch_end(self, batch, logs=None):\n",
        "    self.batch_losses.append(logs['loss'])\n",
        "    self.batch_acc.append(logs['acc'])\n",
        "    self.model.reset_metrics()"
      ]
    },
    {
      "cell_type": "code",
      "execution_count": null,
      "metadata": {
        "colab": {
          "base_uri": "https://localhost:8080/"
        },
        "id": "gyUhJ59i6ra0",
        "outputId": "7d153410-7149-4bdd-be84-90cbee597603"
      },
      "outputs": [
        {
          "output_type": "stream",
          "name": "stdout",
          "text": [
            "Epoch 1/4\n",
            "243/243 [==============================] - 1117s 5s/step - loss: 0.3210 - acc: 0.9062\n",
            "Epoch 2/4\n",
            "243/243 [==============================] - 1111s 5s/step - loss: 0.1094 - acc: 0.9688\n",
            "Epoch 3/4\n",
            "243/243 [==============================] - 1118s 5s/step - loss: 0.1832 - acc: 0.9375\n",
            "Epoch 4/4\n",
            "243/243 [==============================] - 1108s 5s/step - loss: 0.1082 - acc: 0.9688\n"
          ]
        }
      ],
      "source": [
        "steps_per_epoch = np.ceil(image_data.samples/image_data.batch_size)\n",
        " \n",
        "batch_stats_callback = CollectBatchStats()\n",
        " \n",
        "history = model.fit(image_data, epochs=4,\n",
        "                    steps_per_epoch=steps_per_epoch,\n",
        "                    callbacks=[batch_stats_callback])"
      ]
    },
    {
      "cell_type": "code",
      "execution_count": null,
      "metadata": {
        "id": "GOVPfkf26trL",
        "colab": {
          "base_uri": "https://localhost:8080/",
          "height": 300
        },
        "outputId": "613dec18-f413-4433-d2f3-c9f97d10ee3f"
      },
      "outputs": [
        {
          "output_type": "execute_result",
          "data": {
            "text/plain": [
              "[<matplotlib.lines.Line2D at 0x7fb10acaf850>]"
            ]
          },
          "metadata": {},
          "execution_count": 23
        },
        {
          "output_type": "display_data",
          "data": {
            "text/plain": [
              "<Figure size 432x288 with 1 Axes>"
            ],
            "image/png": "[encoded data removed]"
          },
          "metadata": {
            "needs_background": "light"
          }
        }
      ],
      "source": [
        "plt.figure()\n",
        "plt.ylabel(\"Loss\")\n",
        "plt.xlabel(\"Training Steps\")\n",
        "plt.ylim([0,2])\n",
        "plt.plot(batch_stats_callback.batch_losses)"
      ]
    },
    {
      "cell_type": "code",
      "execution_count": null,
      "metadata": {
        "id": "24736lwT6uPZ",
        "colab": {
          "base_uri": "https://localhost:8080/",
          "height": 300
        },
        "outputId": "1c8c5a00-6479-4f3e-a224-27118bf0efbb"
      },
      "outputs": [
        {
          "output_type": "execute_result",
          "data": {
            "text/plain": [
              "[<matplotlib.lines.Line2D at 0x7fb10ac38dd0>]"
            ]
          },
          "metadata": {},
          "execution_count": 24
        },
        {
          "output_type": "display_data",
          "data": {
            "text/plain": [
              "<Figure size 432x288 with 1 Axes>"
            ],
            "image/png": "[encoded data removed]"
          },
          "metadata": {
            "needs_background": "light"
          }
        }
      ],
      "source": [
        "plt.figure()\n",
        "plt.ylabel(\"Accuracy\")\n",
        "plt.xlabel(\"Training Steps\")\n",
        "plt.ylim([0,1])\n",
        "plt.plot(batch_stats_callback.batch_acc)"
      ]
    },
    {
      "cell_type": "markdown",
      "metadata": {
        "id": "Pau2OcsB6vzZ"
      },
      "source": [
        "# Model evaluation"
      ]
    },
    {
      "cell_type": "code",
      "execution_count": null,
      "metadata": {
        "id": "jaFJ8CqqzRDq",
        "colab": {
          "base_uri": "https://localhost:8080/"
        },
        "outputId": "ef4c57d7-b5f6-40da-dbb2-6aed149fe28c"
      },
      "outputs": [
        {
          "output_type": "stream",
          "name": "stdout",
          "text": [
            "Found 2490 validated image filenames belonging to 8 classes.\n"
          ]
        },
        {
          "output_type": "stream",
          "name": "stderr",
          "text": [
            "/usr/local/lib/python3.7/dist-packages/ipykernel_launcher.py:3: FutureWarning: The default value of regex will change from True to False in a future version.\n",
            "  This is separate from the ipykernel package so we can avoid doing imports until\n"
          ]
        }
      ],
      "source": [
        "tmp_validation_labels_csv = os.path.join(TMP_DATA_DIR, \"Final_Test_GT/GT-final_test.csv\") \n",
        "val_data_frame = pd.read_csv(tmp_validation_labels_csv, header=0, sep=',') \n",
        "val_data_frame['Filename'] = val_data_frame['Filename'].str.replace('.ppm','.jpg') \n",
        "val_data_frame['ClassId'] = val_data_frame['ClassId'].astype(str).str.zfill(5)\n",
        "\n",
        "image_val_data = image_generator.flow_from_dataframe(val_data_frame, x_col=\"Filename\", directory=VALIDATION_DATA_DIR, y_col=\"ClassId\", target_size=IMAGE_SHAPE) #(image)"
      ]
    },
    {
      "cell_type": "code",
      "execution_count": null,
      "metadata": {
        "id": "lha0biXW61YI",
        "colab": {
          "base_uri": "https://localhost:8080/"
        },
        "outputId": "25de0228-7e8f-4fec-d3dd-0a939dc7a563"
      },
      "outputs": [
        {
          "output_type": "stream",
          "name": "stdout",
          "text": [
            "Image batch shape:  (32, 224, 224, 3)\n",
            "Label batch shape:  (32, 8)\n"
          ]
        }
      ],
      "source": [
        "for image_val_batch, label_val_batch in image_val_data:\n",
        "  print(\"Image batch shape: \", image_val_batch.shape)\n",
        "  print(\"Label batch shape: \", label_val_batch.shape)\n",
        "  break"
      ]
    },
    {
      "cell_type": "code",
      "execution_count": null,
      "metadata": {
        "id": "mbMOGnDM6yI6"
      },
      "outputs": [],
      "source": [
        "predicted_batch = model.predict(image_val_batch)\n",
        "predicted_id = np.argmax(predicted_batch, axis=-1)\n",
        "label_id = np.argmax(label_val_batch, axis=-1)"
      ]
    },
    {
      "cell_type": "code",
      "execution_count": null,
      "metadata": {
        "id": "FnNiujB564R5",
        "colab": {
          "base_uri": "https://localhost:8080/",
          "height": 86
        },
        "outputId": "64e90714-1cb4-4a85-b0c2-d4f81744c0d4"
      },
      "outputs": [
        {
          "output_type": "stream",
          "name": "stdout",
          "text": [
            "[0, 3, 12, 13, 14, 20, 22, 40]\n",
            "Accuracy of the shown eval batch:\n"
          ]
        },
        {
          "output_type": "execute_result",
          "data": {
            "text/plain": [
              "0.8125"
            ]
          },
          "metadata": {},
          "execution_count": 60
        },
        {
          "output_type": "display_data",
          "data": {
            "text/plain": [
              "<Figure size 720x648 with 0 Axes>"
            ]
          },
          "metadata": {}
        }
      ],
      "source": [
        "batch_size = image_val_batch.shape[0]\n",
        "num_plot_column = 5\n",
        "num_plot_row = batch_size // num_plot_column + (batch_size % num_plot_column > 0)\n",
        "\n",
        "plt.figure(figsize=(10,9))\n",
        "plt.subplots_adjust(hspace=0.5)\n",
        "label_number = list(label_map.keys())\n",
        "print(label_number)\n",
        "# for n in range(batch_size):\n",
        "#   plt.subplot(num_plot_row,num_plot_column,n+1)\n",
        "#   plt.imshow(image_val_batch[label_number[n]])\n",
        "#   color = \"green\" if predicted_id[label_number[n]] == label_id[label_number[n]] else \"red\"\n",
        "#   plt.title(label_map[predicted_id[label_number[n]]].title(), color=color)\n",
        "#   plt.axis('off')\n",
        "# _ = plt.suptitle(\"Model predictions (green: correct, red: incorrect)\")\n",
        "\n",
        "# for n in range(batch_size):\n",
        "#   plt.subplot(num_plot_row,num_plot_column,n+1)\n",
        "#   plt.imshow(image_val_batch[n])\n",
        "#   color = \"green\" if predicted_id[n] == label_id[n] else \"red\"\n",
        "#   plt.title(label_map[predicted_id[n]].title(), color=color)\n",
        "#   plt.axis('off')\n",
        "# _ = plt.suptitle(\"Model predictions (green: correct, red: incorrect)\")\n",
        "\n",
        "\n",
        "print(\"Accuracy of the shown eval batch:\")\n",
        "accuracy_score(label_id, predicted_id)"
      ]
    },
    {
      "cell_type": "code",
      "execution_count": null,
      "metadata": {
        "id": "SdzPtCGL68df",
        "colab": {
          "base_uri": "https://localhost:8080/"
        },
        "outputId": "dcc921d7-87dd-4238-d8c3-fa299a734b81"
      },
      "outputs": [
        {
          "output_type": "stream",
          "name": "stdout",
          "text": [
            "77/77 [==============================] - 72s 922ms/step - loss: 0.7185 - acc: 0.7699\n",
            "Loss:  0.7185150980949402 Accuracy:  0.7698795199394226\n"
          ]
        }
      ],
      "source": [
        "score = model.evaluate(x=image_val_data, batch_size=image_val_data.batch_size, steps=image_val_data.samples/image_val_data.batch_size)\n",
        "print(\"Loss: \", score[0], \"Accuracy: \", score[1])"
      ]
    },
    {
      "cell_type": "markdown",
      "metadata": {
        "id": "lbmC4oQG69jk"
      },
      "source": [
        "# Saving model"
      ]
    },
    {
      "cell_type": "code",
      "execution_count": null,
      "metadata": {
        "id": "D8OakcY96_eA",
        "colab": {
          "base_uri": "https://localhost:8080/",
          "height": 330
        },
        "outputId": "539e0239-23f7-474d-adfb-835cc239b736"
      },
      "outputs": [
        {
          "output_type": "stream",
          "name": "stdout",
          "text": [
            "INFO:tensorflow:Assets written to: /output/model1658996340/assets\n"
          ]
        },
        {
          "output_type": "stream",
          "name": "stderr",
          "text": [
            "INFO:tensorflow:Assets written to: /output/model1658996340/assets\n"
          ]
        },
        {
          "output_type": "stream",
          "name": "stdout",
          "text": [
            "INFO:tensorflow:Assets written to: /output/model1658996340/assets\n"
          ]
        },
        {
          "output_type": "stream",
          "name": "stderr",
          "text": [
            "INFO:tensorflow:Assets written to: /output/model1658996340/assets\n"
          ]
        },
        {
          "output_type": "stream",
          "name": "stdout",
          "text": [
            "Model: \"sequential\"\n",
            "_________________________________________________________________\n",
            " Layer (type)                Output Shape              Param #   \n",
            "=================================================================\n",
            " keras_layer (KerasLayer)    (None, 1280)              2257984   \n",
            "                                                                 \n",
            " dense (Dense)               (None, 8)                 10248     \n",
            "                                                                 \n",
            "=================================================================\n",
            "Total params: 2,268,232\n",
            "Trainable params: 10,248\n",
            "Non-trainable params: 2,257,984\n",
            "_________________________________________________________________\n"
          ]
        },
        {
          "output_type": "execute_result",
          "data": {
            "text/plain": [
              "'/output/model1658996340'"
            ],
            "application/vnd.google.colaboratory.intrinsic+json": {
              "type": "string"
            }
          },
          "metadata": {},
          "execution_count": 63
        }
      ],
      "source": [
        "import time\n",
        "t = time.time()\n",
        "\n",
        "export_path = f\"{OUTPUT_ROOT_DIR}/model{int(t)}\"\n",
        "model.save(export_path, save_format='tf')\n",
        "tf.keras.models.save_model(model, export_path)\n",
        "# model.save('saved_model/my_model2', save_format='tf')\n",
        "model.summary()\n",
        "\n",
        "export_path"
      ]
    },
    {
      "cell_type": "code",
      "execution_count": null,
      "metadata": {
        "id": "0TPq8zzJ7Agp",
        "colab": {
          "base_uri": "https://localhost:8080/"
        },
        "outputId": "98c4e386-9a66-4c8d-fc75-a57113c35c40"
      },
      "outputs": [
        {
          "output_type": "stream",
          "name": "stdout",
          "text": [
            "INFO:tensorflow:Assets written to: /tmp/tmpl2b0zko0/assets\n"
          ]
        },
        {
          "output_type": "stream",
          "name": "stderr",
          "text": [
            "INFO:tensorflow:Assets written to: /tmp/tmpl2b0zko0/assets\n",
            "WARNING:absl:Buffer deduplication procedure will be skipped when flatbuffer library is not properly loaded\n"
          ]
        }
      ],
      "source": [
        "# converting model\n",
        "converter = tf.lite.TFLiteConverter.from_keras_model(model)\n",
        "tflite_model = converter.convert()\n",
        "\n",
        "# saving model\n",
        "with tf.io.gfile.GFile(OUTPUT_TFLITE_MODEL, 'wb') as f:\n",
        "  f.write(tflite_model)"
      ]
    },
    {
      "cell_type": "code",
      "source": [
        "# load model + adding TPU\n",
        "interpreter = tf.lite.Interpreter(model_path=OUTPUT_TFLITE_MODEL)\n",
        "# interpreter = tf.lite.Interpreter(model_path=export_path) #####\n",
        "interpreter.allocate_tensors()\n",
        "\n",
        "input_details = interpreter.get_input_details()\n",
        "output_details = interpreter.get_output_details()\n",
        "\n",
        "batch_size = image_val_batch.shape[0]\n",
        "predicted_id = np.zeros(batch_size)\n",
        " \n",
        "for i, image in enumerate(np.split(image_val_batch, batch_size)):\n",
        "  interpreter.set_tensor(input_details[0]['index'], image)\n",
        "  interpreter.invoke()\n",
        "  output_data = interpreter.get_tensor(output_details[0]['index'])\n",
        "  predicted_id[i] = np.argmax(output_data)\n",
        "\n",
        "label_id = np.argmax(label_val_batch, axis=-1)\n",
        "\n",
        "num_plot_column = 5\n",
        "num_plot_row = batch_size // num_plot_column + (batch_size % num_plot_column > 0)\n",
        "\n",
        "plt.figure(figsize=(10,9))\n",
        "plt.subplots_adjust(hspace=0.5)\n",
        "# label_number = list(label_map.keys())\n",
        "# for n in range(batch_size):\n",
        "#   plt.subplot(num_plot_row,num_plot_column,n+1)\n",
        "#   plt.imshow(image_val_batch[int(n)])\n",
        "#   color = \"green\" if predicted_id[int(n)] == label_id[label_number[int(n)]] else \"red\"\n",
        "#   plt.title(label_map[predicted_id[int(n)]].title(), color=color)\n",
        "#   plt.axis('off')\n",
        "# _ = plt.suptitle(\"Model predictions (green: correct, red: incorrect)\")\n",
        "model.save(f'{OUTPUT_ROOT_DIR}/tpu_saved_model/tf_model')\n",
        "\n",
        "print(\"Accuracy of the shown eval batch, with the TensorFlow Lite model:\")\n",
        "accuracy_score(label_id, predicted_id)"
      ],
      "metadata": {
        "colab": {
          "base_uri": "https://localhost:8080/",
          "height": 104
        },
        "id": "b5d0yNQY5vs-",
        "outputId": "9eaa2eba-1ab1-4c57-8086-78a7ee621814"
      },
      "execution_count": null,
      "outputs": [
        {
          "output_type": "stream",
          "name": "stdout",
          "text": [
            "INFO:tensorflow:Assets written to: /output/tpu_saved_model/tf_model/assets\n"
          ]
        },
        {
          "output_type": "stream",
          "name": "stderr",
          "text": [
            "INFO:tensorflow:Assets written to: /output/tpu_saved_model/tf_model/assets\n"
          ]
        },
        {
          "output_type": "stream",
          "name": "stdout",
          "text": [
            "Accuracy of the shown eval batch, with the TensorFlow Lite model:\n"
          ]
        },
        {
          "output_type": "execute_result",
          "data": {
            "text/plain": [
              "0.8125"
            ]
          },
          "metadata": {},
          "execution_count": 70
        },
        {
          "output_type": "display_data",
          "data": {
            "text/plain": [
              "<Figure size 720x648 with 0 Axes>"
            ]
          },
          "metadata": {}
        }
      ]
    },
    {
      "cell_type": "code",
      "execution_count": null,
      "metadata": {
        "id": "klOGSvcjbfIQ"
      },
      "outputs": [],
      "source": [
        "from google.colab import files\n",
        "# files.download(f\"{OUTPUT_TFLITE_MODEL}\")\n",
        "# files.download(f\"/output\")"
      ]
    },
    {
      "cell_type": "code",
      "execution_count": null,
      "metadata": {
        "id": "Z-VzRMSLc6l_",
        "colab": {
          "base_uri": "https://localhost:8080/"
        },
        "outputId": "1695f4cf-069b-4dd1-9e8b-375fae867a60"
      },
      "outputs": [
        {
          "output_type": "stream",
          "name": "stdout",
          "text": [
            "[Errno 2] No such file or directory: '/output'\n",
            "/content\n",
            "total 20\n",
            "drwxr-xr-x 1 root root 4096 Jul 28 16:24 \u001b[0m\u001b[01;34m.\u001b[0m/\n",
            "drwxr-xr-x 1 root root 4096 Jul 28 16:19 \u001b[01;34m..\u001b[0m/\n",
            "drwxr-xr-x 4 root root 4096 Jul 13 13:42 \u001b[01;34m.config\u001b[0m/\n",
            "drwx------ 5 root root 4096 Jul 28 16:24 \u001b[01;34mgdrive\u001b[0m/\n",
            "drwxr-xr-x 1 root root 4096 Jul 13 13:43 \u001b[01;34msample_data\u001b[0m/\n",
            "\u001b[0m\u001b[01;34mgdrive\u001b[0m/  \u001b[01;34msample_data\u001b[0m/\n",
            "total 20\n",
            "drwxr-xr-x 1 root root 4096 Jul 28 16:24 .\n",
            "drwxr-xr-x 1 root root 4096 Jul 28 16:19 ..\n",
            "drwxr-xr-x 4 root root 4096 Jul 13 13:42 .config\n",
            "drwx------ 5 root root 4096 Jul 28 16:24 gdrive\n",
            "drwxr-xr-x 1 root root 4096 Jul 13 13:43 sample_data\n",
            "\tzip warning: name not matched: model1658996340\n",
            "\n",
            "zip error: Nothing to do! (try: zip -r model1658996340.zip . -i model1658996340)\n"
          ]
        }
      ],
      "source": [
        "%cd $OUTPUT_ROOT_DIR\n",
        "%pwd\n",
        "%ls -al\n",
        "%pwd\n",
        "%ls\n",
        "!ls -al\n",
        "!zip -r model1658996340.zip model1658996340"
      ]
    },
    {
      "cell_type": "code",
      "source": [
        "from google.colab import files\n",
        "files.download(\"model1658996340.zip\")"
      ],
      "metadata": {
        "colab": {
          "base_uri": "https://localhost:8080/",
          "height": 305
        },
        "id": "3WY_JVso6jHi",
        "outputId": "2da1fc25-30d9-4417-d699-d784c6575b8e"
      },
      "execution_count": null,
      "outputs": [
        {
          "output_type": "error",
          "ename": "FileNotFoundError",
          "evalue": "ignored",
          "traceback": [
            "\u001b[0;31m---------------------------------------------------------------------------\u001b[0m",
            "\u001b[0;31mFileNotFoundError\u001b[0m                         Traceback (most recent call last)",
            "\u001b[0;32m<ipython-input-21-d12501e25e98>\u001b[0m in \u001b[0;36m<module>\u001b[0;34m()\u001b[0m\n\u001b[1;32m      1\u001b[0m \u001b[0;32mfrom\u001b[0m \u001b[0mgoogle\u001b[0m\u001b[0;34m.\u001b[0m\u001b[0mcolab\u001b[0m \u001b[0;32mimport\u001b[0m \u001b[0mfiles\u001b[0m\u001b[0;34m\u001b[0m\u001b[0;34m\u001b[0m\u001b[0m\n\u001b[0;32m----> 2\u001b[0;31m \u001b[0mfiles\u001b[0m\u001b[0;34m.\u001b[0m\u001b[0mdownload\u001b[0m\u001b[0;34m(\u001b[0m\u001b[0;34m\"model1658996340.zip\"\u001b[0m\u001b[0;34m)\u001b[0m\u001b[0;34m\u001b[0m\u001b[0;34m\u001b[0m\u001b[0m\n\u001b[0m",
            "\u001b[0;32m/usr/local/lib/python3.7/dist-packages/google/colab/files.py\u001b[0m in \u001b[0;36mdownload\u001b[0;34m(filename)\u001b[0m\n\u001b[1;32m    179\u001b[0m   \u001b[0;32mif\u001b[0m \u001b[0;32mnot\u001b[0m \u001b[0m_os\u001b[0m\u001b[0;34m.\u001b[0m\u001b[0mpath\u001b[0m\u001b[0;34m.\u001b[0m\u001b[0mexists\u001b[0m\u001b[0;34m(\u001b[0m\u001b[0mfilename\u001b[0m\u001b[0;34m)\u001b[0m\u001b[0;34m:\u001b[0m\u001b[0;34m\u001b[0m\u001b[0;34m\u001b[0m\u001b[0m\n\u001b[1;32m    180\u001b[0m     \u001b[0mmsg\u001b[0m \u001b[0;34m=\u001b[0m \u001b[0;34m'Cannot find file: {}'\u001b[0m\u001b[0;34m.\u001b[0m\u001b[0mformat\u001b[0m\u001b[0;34m(\u001b[0m\u001b[0mfilename\u001b[0m\u001b[0;34m)\u001b[0m\u001b[0;34m\u001b[0m\u001b[0;34m\u001b[0m\u001b[0m\n\u001b[0;32m--> 181\u001b[0;31m     \u001b[0;32mraise\u001b[0m \u001b[0mFileNotFoundError\u001b[0m\u001b[0;34m(\u001b[0m\u001b[0mmsg\u001b[0m\u001b[0;34m)\u001b[0m  \u001b[0;31m# pylint: disable=undefined-variable\u001b[0m\u001b[0;34m\u001b[0m\u001b[0;34m\u001b[0m\u001b[0m\n\u001b[0m\u001b[1;32m    182\u001b[0m \u001b[0;34m\u001b[0m\u001b[0m\n\u001b[1;32m    183\u001b[0m   \u001b[0mcomm_manager\u001b[0m \u001b[0;34m=\u001b[0m \u001b[0m_IPython\u001b[0m\u001b[0;34m.\u001b[0m\u001b[0mget_ipython\u001b[0m\u001b[0;34m(\u001b[0m\u001b[0;34m)\u001b[0m\u001b[0;34m.\u001b[0m\u001b[0mkernel\u001b[0m\u001b[0;34m.\u001b[0m\u001b[0mcomm_manager\u001b[0m\u001b[0;34m\u001b[0m\u001b[0;34m\u001b[0m\u001b[0m\n",
            "\u001b[0;31mFileNotFoundError\u001b[0m: Cannot find file: model1658996340.zip"
          ]
        }
      ]
    },
    {
      "cell_type": "code",
      "source": [
        "%pwd\n",
        "%cd gdrive/MyDrive/'Colab Notebooks'/\n",
        "%ls\n",
        "!unzip 'tpu_saved_model.zip'"
      ],
      "metadata": {
        "colab": {
          "base_uri": "https://localhost:8080/"
        },
        "id": "0JLtTgnnCpIm",
        "outputId": "72e5d521-8498-4687-8d74-fc525b7b2f30"
      },
      "execution_count": null,
      "outputs": [
        {
          "output_type": "stream",
          "name": "stdout",
          "text": [
            "[Errno 2] No such file or directory: 'gdrive/MyDrive/Colab Notebooks/'\n",
            "/content/gdrive/MyDrive/Colab Notebooks\n",
            "\u001b[0m\u001b[01;34mdataset\u001b[0m/  ML_ADAS_Raspberry.ipynb  \u001b[01;34moutput\u001b[0m/  tpu_saved_model.zip\n",
            "Archive:  tpu_saved_model.zip\n",
            "   creating: tpu_saved_model/\n",
            "   creating: tpu_saved_model/tf_model/\n",
            "   creating: tpu_saved_model/tf_model/variables/\n",
            "  inflating: tpu_saved_model/tf_model/variables/variables.index  \n",
            "  inflating: tpu_saved_model/tf_model/variables/variables.data-00000-of-00001  \n",
            "   creating: tpu_saved_model/tf_model/assets/\n",
            "  inflating: tpu_saved_model/tf_model/saved_model.pb  \n",
            "  inflating: tpu_saved_model/tf_model/keras_metadata.pb  \n"
          ]
        }
      ]
    },
    {
      "cell_type": "code",
      "source": [
        "converter = tf.lite.TFLiteConverter.from_saved_model('tpu_saved_model/tf_model')\n",
        "tflite_model = converter.convert()\n",
        "\n",
        "with open('model.tflite', 'wb') as f:\n",
        "    f.write(tflite_model)"
      ],
      "metadata": {
        "colab": {
          "base_uri": "https://localhost:8080/"
        },
        "id": "hF56HvxuDuMP",
        "outputId": "6de78c6c-1326-4097-a034-2d298a39744c"
      },
      "execution_count": null,
      "outputs": [
        {
          "output_type": "stream",
          "name": "stderr",
          "text": [
            "WARNING:absl:Buffer deduplication procedure will be skipped when flatbuffer library is not properly loaded\n"
          ]
        }
      ]
    },
    {
      "cell_type": "code",
      "source": [
        "files.download(\"model.tflite\")"
      ],
      "metadata": {
        "id": "sB9S8As0FD8V",
        "outputId": "2b3e1e35-051e-4261-d7f4-f16d21912d88",
        "colab": {
          "base_uri": "https://localhost:8080/",
          "height": 34
        }
      },
      "execution_count": null,
      "outputs": [
        {
          "output_type": "display_data",
          "data": {
            "text/plain": [
              "<IPython.core.display.Javascript object>"
            ],
            "application/javascript": [
              "\n",
              "    async function download(id, filename, size) {\n",
              "      if (!google.colab.kernel.accessAllowed) {\n",
              "        return;\n",
              "      }\n",
              "      const div = document.createElement('div');\n",
              "      const label = document.createElement('label');\n",
              "      label.textContent = `Downloading \"${filename}\": `;\n",
              "      div.appendChild(label);\n",
              "      const progress = document.createElement('progress');\n",
              "      progress.max = size;\n",
              "      div.appendChild(progress);\n",
              "      document.body.appendChild(div);\n",
              "\n",
              "      const buffers = [];\n",
              "      let downloaded = 0;\n",
              "\n",
              "      const channel = await google.colab.kernel.comms.open(id);\n",
              "      // Send a message to notify the kernel that we're ready.\n",
              "      channel.send({})\n",
              "\n",
              "      for await (const message of channel.messages) {\n",
              "        // Send a message to notify the kernel that we're ready.\n",
              "        channel.send({})\n",
              "        if (message.buffers) {\n",
              "          for (const buffer of message.buffers) {\n",
              "            buffers.push(buffer);\n",
              "            downloaded += buffer.byteLength;\n",
              "            progress.value = downloaded;\n",
              "          }\n",
              "        }\n",
              "      }\n",
              "      const blob = new Blob(buffers, {type: 'application/binary'});\n",
              "      const a = document.createElement('a');\n",
              "      a.href = window.URL.createObjectURL(blob);\n",
              "      a.download = filename;\n",
              "      div.appendChild(a);\n",
              "      a.click();\n",
              "      div.remove();\n",
              "    }\n",
              "  "
            ]
          },
          "metadata": {}
        },
        {
          "output_type": "display_data",
          "data": {
            "text/plain": [
              "<IPython.core.display.Javascript object>"
            ],
            "application/javascript": [
              "download(\"download_b7aeaa81-8ecd-4a91-bc02-7f7c7975cf3d\", \"model.tflite\", 8930880)"
            ]
          },
          "metadata": {}
        }
      ]
    }
  ],
  "metadata": {
    "colab": {
      "collapsed_sections": [],
      "name": "ML_ADAS_Raspberry.ipynb",
      "provenance": []
    },
    "kernelspec": {
      "display_name": "Python 3",
      "name": "python3"
    },
    "language_info": {
      "name": "python"
    }
  },
  "nbformat": 4,
  "nbformat_minor": 0
}